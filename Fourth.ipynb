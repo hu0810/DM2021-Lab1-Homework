{
 "cells": [
  {
   "cell_type": "markdown",
   "id": "3894aeef",
   "metadata": {},
   "source": [
    "## Inefficient Parts\n",
    "Fourth: In the lab, we applied each step really quickly just to illustrate how to work with your dataset. There are somethings that are not ideal or the most efficient/meaningful. Each dataset can be habdled differently as well. What are those inefficent parts you noticed? How can you improve the Data preprocessing for these specific datasets? This part is worth 10% of your grade.\n",
    "\n",
    "First, there is no stop words processing in the lab, regarding that they do not provide information for the category of a text or the sentiment of a review.\n",
    "Second, we did not do the lemmatization, like the past tense(played/play).However, it is a good way to make the word embedding more precise.\n",
    "The above steps can provide a better way to make the words embedding smaller and make the analysis more efficient. "
   ]
  }
 ],
 "metadata": {
  "kernelspec": {
   "display_name": "Python 3",
   "language": "python",
   "name": "python3"
  },
  "language_info": {
   "codemirror_mode": {
    "name": "ipython",
    "version": 3
   },
   "file_extension": ".py",
   "mimetype": "text/x-python",
   "name": "python",
   "nbconvert_exporter": "python",
   "pygments_lexer": "ipython3",
   "version": "3.8.8"
  }
 },
 "nbformat": 4,
 "nbformat_minor": 5
}
